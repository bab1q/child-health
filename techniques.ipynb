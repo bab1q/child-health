{
 "cells": [
  {
   "cell_type": "code",
   "execution_count": null,
   "metadata": {},
   "outputs": [],
   "source": [
    "# 配置信息：模型、数据、超参数 用Config类保存\n",
    "class CFG:\n",
    "    \n",
    "    USE_GPU= False\n",
    "    test =0.2\n",
    "    normalize = False#True\n",
    "    overSampling = True # handling imbalance class\n",
    "    crossValidate = True#True # Support cross Validation \n",
    "    nFold = 5#4 # 8  No remainder  for oversampling \n",
    "\n",
    "\n",
    "    USE_XGB = True\n",
    "    USE_TABNET = True\n",
    "\n",
    "    # XGBoost\n",
    "    xgbEstimate = 200 # 250 , 300 \n",
    "    xgbDepth = 7 #5 #6, low value avoid overfit\n",
    "    xgbLR = 0.05 # 0.08\n",
    "\n",
    "    # Tabnet model hyperparameter \n",
    "    maxEpochs = 1000\n",
    "    n_d =32 #8\n",
    "    n_a = 32 # 8\n",
    "    n_steps = 5 # 3\n",
    "    mask_type = \"entmax\" # \"sparsemax\"\n",
    "    learningRate = 1e-3 # 1e-2\n",
    "    \n",
    "    trainSeriesParquet = \"series_train.parquet\"\n",
    "    testSeriesParquet = \"series_test.parquet\"\n",
    "    rootDir =\"/kaggle/input/child-mind-institute-problematic-internet-use/\"\n",
    "    dataDictionary = \"/kaggle/input/child-mind-institute-problematic-internet-use/data_dictionary.csv\"\n",
    "    trainDataFile= \"/kaggle/input/child-mind-institute-problematic-internet-use/train.csv\"\n",
    "    testDataFile = \"/kaggle/input/child-mind-institute-problematic-internet-use/test.csv\"\n",
    "    samplesub = \"/kaggle/input/child-mind-institute-problematic-internet-use/sample_submission.csv\"\n",
    "    "
   ]
  },
  {
   "cell_type": "code",
   "execution_count": null,
   "metadata": {},
   "outputs": [],
   "source": [
    "# 设置pd的最大展示行数\n",
    "pd.set_option('display.max_rows', 50)"
   ]
  },
  {
   "cell_type": "code",
   "execution_count": null,
   "metadata": {},
   "outputs": [],
   "source": [
    "# pd的dataframe对象载入数据后，自动计算统计量（mean、min、max、25%。。。），调用discribe展示\n",
    "trainDataDF.describe()"
   ]
  }
 ],
 "metadata": {
  "language_info": {
   "name": "python"
  }
 },
 "nbformat": 4,
 "nbformat_minor": 2
}
